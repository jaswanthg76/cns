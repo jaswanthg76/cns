{
 "cells": [
  {
   "cell_type": "code",
   "execution_count": null,
   "id": "3cce50ec",
   "metadata": {},
   "outputs": [],
   "source": [
    "# To work with dataframes\n",
    "import pandas as pd \n",
    "\n",
    "# To perform numerical operations\n",
    "import numpy as np\n",
    "\n",
    "# To visualize data\n",
    "import seaborn as sns\n",
    "\n",
    "# To disable warnings\n",
    "import warnings\n",
    "warnings.filterwarnings(\"ignore\")"
   ]
  },
  {
   "cell_type": "code",
   "execution_count": null,
   "id": "0f3ef009",
   "metadata": {},
   "outputs": [],
   "source": [
    "# Importing data\n",
    "# =============================================================================\n",
    "data = pd.read_csv('income.csv',na_values=[\" ?\"]) "
   ]
  },
  {
   "cell_type": "code",
   "execution_count": null,
   "id": "1f881448",
   "metadata": {},
   "outputs": [],
   "source": [
    "data"
   ]
  },
  {
   "cell_type": "code",
   "execution_count": null,
   "id": "8e77a826",
   "metadata": {
    "scrolled": true
   },
   "outputs": [],
   "source": [
    "# =============================================================================\n",
    "# Data pre-processing\n",
    "# =============================================================================\n",
    "\n",
    "data.isnull().sum()\n"
   ]
  },
  {
   "cell_type": "markdown",
   "id": "21f8bfe4",
   "metadata": {},
   "source": [
    "### \"\"\" Points to note:\n",
    "1. Missing values in Jobtype    = 1809\n",
    "2. Missing values in Occupation = 1816 \n",
    "3. There are 1809 rows where two specific \n",
    "   columns i.e. occupation & JobType have missing values\n",
    "4. (1816-1809) = 7 => You still have occupation unfilled for \n",
    "   these 7 rows. Because, jobtype is Never worked\n",
    "\"\"\""
   ]
  },
  {
   "cell_type": "code",
   "execution_count": null,
   "id": "143dd42d",
   "metadata": {},
   "outputs": [],
   "source": [
    "missing = data[data.isnull().any(axis=1)]\n",
    "# axis=1 => to consider at least one column value is missing in a row"
   ]
  },
  {
   "cell_type": "code",
   "execution_count": null,
   "id": "3485c837",
   "metadata": {},
   "outputs": [],
   "source": [
    "missing"
   ]
  },
  {
   "cell_type": "code",
   "execution_count": null,
   "id": "d2a15622",
   "metadata": {},
   "outputs": [],
   "source": [
    "data2 = data.dropna(axis=0)"
   ]
  },
  {
   "cell_type": "code",
   "execution_count": null,
   "id": "5400d9f1",
   "metadata": {},
   "outputs": [],
   "source": [
    "data"
   ]
  },
  {
   "cell_type": "code",
   "execution_count": null,
   "id": "f2554ba4",
   "metadata": {
    "scrolled": true
   },
   "outputs": [],
   "source": [
    "# Reindexing the salary status names to 0,1\n",
    "data2['SalStat']=data2['SalStat'].map({' less than or equal to 50,000':0,' greater than 50,000':1})\n",
    "print(data2['SalStat'])"
   ]
  },
  {
   "cell_type": "code",
   "execution_count": null,
   "id": "9833a10e",
   "metadata": {},
   "outputs": [],
   "source": [
    "new_data=pd.get_dummies(data2, drop_first=True)"
   ]
  },
  {
   "cell_type": "code",
   "execution_count": null,
   "id": "113e0739",
   "metadata": {},
   "outputs": [],
   "source": [
    "# Storing the column names \n",
    "columns_list=list(new_data.columns)\n",
    "print(columns_list)"
   ]
  },
  {
   "cell_type": "code",
   "execution_count": null,
   "id": "f1a6e33e",
   "metadata": {},
   "outputs": [],
   "source": [
    "# Separating the input names from data\n",
    "features=list(set(columns_list)-set(['SalStat']))\n",
    "print(features)"
   ]
  },
  {
   "cell_type": "code",
   "execution_count": null,
   "id": "49c4c840",
   "metadata": {
    "scrolled": true
   },
   "outputs": [],
   "source": [
    "# Storing the output values in y\n",
    "y=new_data['SalStat'].values\n",
    "print(y)"
   ]
  },
  {
   "cell_type": "code",
   "execution_count": null,
   "id": "cc105887",
   "metadata": {
    "scrolled": true
   },
   "outputs": [],
   "source": [
    "# Storing the values from input features\n",
    "x = new_data[features].values\n",
    "print(x)"
   ]
  },
  {
   "cell_type": "code",
   "execution_count": null,
   "id": "a7d10ab8",
   "metadata": {},
   "outputs": [],
   "source": [
    "# To partition the data\n",
    "from sklearn.model_selection import train_test_split\n",
    "# Splitting the data into train and test\n",
    "train_x,test_x,train_y,test_y = train_test_split(x,y,test_size=0.3, random_state=0)"
   ]
  },
  {
   "cell_type": "code",
   "execution_count": null,
   "id": "183ab9b9",
   "metadata": {},
   "outputs": [],
   "source": [
    "# =============================================================================\n",
    "# KNN\n",
    "# =============================================================================\n",
    "# importing the library of KNN\n",
    "from sklearn.neighbors import KNeighborsClassifier\n",
    "# Storing the K nearest neighbors classifier\n",
    "KNN_classifier = KNeighborsClassifier(n_neighbors = 5)  \n",
    "\n",
    "# Fitting the values for X and Y\n",
    "KNN_classifier.fit(train_x, train_y) \n",
    "\n",
    "# Predicting the test values with model\n",
    "prediction = KNN_classifier.predict(test_x)\n"
   ]
  },
  {
   "cell_type": "code",
   "execution_count": 61,
   "id": "2cf507be",
   "metadata": {},
   "outputs": [
    {
     "name": "stdout",
     "output_type": "stream",
     "text": [
      "[1766, 1516, 1515, 1436, 1493, 1438, 1451, 1432, 1458, 1436, 1441, 1447, 1451, 1423, 1413, 1390, 1424, 1396, 1434]\n"
     ]
    }
   ],
   "source": [
    "# Importing performance metrics - accuracy score & confusion matrix\n",
    "from sklearn.metrics import accuracy_score,confusion_matrix\n",
    "\n",
    "# Performance metric check\n",
    "confusionMmatrix = confusion_matrix(test_y, prediction)\n",
    "print(confusionMmatrix)\n",
    "\n",
    "# Calculating the accuracy\n",
    "accuracy_score=accuracy_score(test_y, prediction)\n",
    "print(accuracy_score)\n",
    "\n",
    "print('Misclassified samples: %d' % (test_y != prediction).sum())\n",
    "\n",
    "\"\"\"\n",
    "Effect of K value on classifier\n",
    "\"\"\"\n",
    "Misclassified_sample = []\n",
    "# Calculating error for K values between 1 and 20\n",
    "for i in range(1, 20):  \n",
    "    knn = KNeighborsClassifier(n_neighbors=i)\n",
    "    knn.fit(train_x, train_y)\n",
    "    pred_i = knn.predict(test_x)\n",
    "    Misclassified_sample.append((test_y != pred_i).sum())\n",
    "\n",
    "print(Misclassified_sample)\n",
    "# =============================================================================\n",
    "# END OF SCRIPT\n",
    "# ============================================================================="
   ]
  },
  {
   "cell_type": "code",
   "execution_count": null,
   "id": "e8ffdbac",
   "metadata": {},
   "outputs": [],
   "source": []
  }
 ],
 "metadata": {
  "kernelspec": {
   "display_name": "Python 3 (ipykernel)",
   "language": "python",
   "name": "python3"
  },
  "language_info": {
   "codemirror_mode": {
    "name": "ipython",
    "version": 3
   },
   "file_extension": ".py",
   "mimetype": "text/x-python",
   "name": "python",
   "nbconvert_exporter": "python",
   "pygments_lexer": "ipython3",
   "version": "3.9.13"
  }
 },
 "nbformat": 4,
 "nbformat_minor": 5
}
